{
 "cells": [
  {
   "cell_type": "code",
   "execution_count": 28,
   "metadata": {},
   "outputs": [],
   "source": [
    "import pandas as pd\n",
    "from pandas import ExcelWriter\n",
    "df = pd.read_csv('/home/scientist/output/max_file_for_heather_None_zips.csv')"
   ]
  },
  {
   "cell_type": "code",
   "execution_count": 29,
   "metadata": {},
   "outputs": [
    {
     "name": "stderr",
     "output_type": "stream",
     "text": [
      "/opt/conda/lib/python3.5/site-packages/pandas/core/frame.py:2754: SettingWithCopyWarning: \n",
      "A value is trying to be set on a copy of a slice from a DataFrame\n",
      "\n",
      "See the caveats in the documentation: http://pandas.pydata.org/pandas-docs/stable/indexing.html#indexing-view-versus-copy\n",
      "  **kwargs)\n"
     ]
    }
   ],
   "source": [
    "new_df = df[['id', 'master_id', 'name', 'master_name', 'origin', 'master_address', 'location', 'stateabbrev', 'zip', 'str_num_score', 'str_name_score', 'name_score', 'score', 'rank']]\n",
    "filtered_df = new_df[(new_df['rank'] <= 2)]\n",
    "# filtered_df = new_df[(new_df['score'] < 77.5) & (new_df['score'] >= 77)]\n",
    "filtered_df.rename(columns={'location': 'city', 'stateabbrev': 'state', 'origin': 'xref_address'}, inplace=True)\n",
    "filtered_df = filtered_df.set_index(['id', 'name', 'master_name'])"
   ]
  },
  {
   "cell_type": "code",
   "execution_count": 30,
   "metadata": {},
   "outputs": [],
   "source": [
    "writer = ExcelWriter('/home/scientist/output/max_file_for_heather_lookup.xlsx')\n",
    "filtered_df.to_excel(writer,'Sheet1')\n",
    "writer.save()"
   ]
  },
  {
   "cell_type": "code",
   "execution_count": 42,
   "metadata": {},
   "outputs": [
    {
     "data": {
      "text/plain": [
       "'/home/scientist/input'"
      ]
     },
     "execution_count": 42,
     "output_type": "execute_result",
     "metadata": {}
    }
   ],
   "source": [
    "pwd"
   ]
  },
  {
   "cell_type": "code",
   "execution_count": 33,
   "metadata": {},
   "outputs": [
    {
     "data": {
      "text/plain": [
       "master_id         float64\n",
       "xref_address       object\n",
       "master_address     object\n",
       "city               object\n",
       "state              object\n",
       "zip                object\n",
       "str_num_score     float64\n",
       "str_name_score    float64\n",
       "name_score        float64\n",
       "score             float64\n",
       "rank              float64\n",
       "dtype: object"
      ]
     },
     "execution_count": 33,
     "output_type": "execute_result",
     "metadata": {}
    }
   ],
   "source": [
    "# len(filtered_df)\n",
    "filtered_df.dtypes"
   ]
  },
  {
   "cell_type": "code",
   "metadata": {},
   "outputs": [],
   "source": [
    ""
   ]
  }
 ],
 "metadata": {
  "anaconda-cloud": {},
  "kernelspec": {
   "display_name": "Python [default]",
   "language": "python",
   "name": "python3"
  },
  "language_info": {
   "codemirror_mode": {
    "name": "ipython",
    "version": 3.0
   },
   "file_extension": ".py",
   "mimetype": "text/x-python",
   "name": "python",
   "nbconvert_exporter": "python",
   "pygments_lexer": "ipython3",
   "version": "3.5.2"
  },
  "nav_menu": {},
  "toc": {
   "navigate_menu": true,
   "number_sections": true,
   "sideBar": true,
   "threshold": 6.0,
   "toc_cell": false,
   "toc_section_display": "block",
   "toc_window_display": false
  }
 },
 "nbformat": 4,
 "nbformat_minor": 1
}