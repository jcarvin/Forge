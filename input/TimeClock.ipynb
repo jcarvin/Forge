{
 "cells": [
  {
   "cell_type": "code",
   "execution_count": 1,
   "metadata": {
    "collapsed": true
   },
   "outputs": [],
   "source": [
    "from datetime import datetime, timedelta"
   ]
  },
  {
   "cell_type": "code",
   "execution_count": 2,
   "metadata": {
    "collapsed": true
   },
   "outputs": [],
   "source": [
    "class PunchCard(object):\n",
    "    def __init__(self, name):\n",
    "        self.name = name\n",
    "        \n",
    "        self.hours_required = 42.5\n",
    "        self.punches = {}\n",
    "        self.total_hours = 0\n",
    "        self.days_counted = []\n",
    "        self.on_clock = False\n",
    "        \n",
    "    def calculate_total_hrs(self):\n",
    "        for day, pnchs in self.punches.items():\n",
    "            if day not in self.days_counted:\n",
    "                if len(pnchs) == 2:\n",
    "                    self.total_hours += (datetime.strptime(pnchs[\"out\"], '%I:%M%p') - datetime.strptime(pnchs[\"in\"], '%I:%M%p')).seconds / 3600\n",
    "                    self.days_counted.append(day)\n",
    "                    \n",
    "    def calculate_hours_expected(self):\n",
    "        '''how many total hours should I work by the end of today to be up to par with hours required?'''\n",
    "        hrs_per_day = self.hours_required/5\n",
    "        return ((hrs_per_day*len(self.punches)) - self.total_hours)\n",
    "        \n",
    "    def punch_in(self, dow, time):\n",
    "        if self.on_clock == False:\n",
    "            self.punches[dow] = {\"in\": time}\n",
    "            self.on_clock = True\n",
    "        else:\n",
    "            for day, pnchs in self.punches.items():\n",
    "                if len(pnchs) == 1 and day != dow:\n",
    "                    self.edit_punch(dow, 'in', time)\n",
    "                    print(\"You didn't punch out on\", day)\n",
    "        \n",
    "    def punch_out(self, dow, time):\n",
    "        if self.on_clock == True:\n",
    "            if dow in self.punches.keys():\n",
    "                self.punches[dow][\"out\"] = time\n",
    "                self.calculate_total_hrs()\n",
    "                self.on_clock = False\n",
    "            else:\n",
    "                print(\"You didn't clock in on %s!\" %dow)\n",
    "        else:\n",
    "            print(\"You aren't on the clock!\")\n",
    "                \n",
    "    def edit_punch(self, dow, punch, time):\n",
    "        if dow in self.punches.keys():\n",
    "            if punch in self.punches[dow].keys():\n",
    "                self.punches[dow][punch]=time\n",
    "            \n",
    "    def when_should_i_leave(self):\n",
    "        self.calculate_total_hrs()\n",
    "        if self.on_clock == True:\n",
    "            for day, pnchs in self.punches.items():\n",
    "                if len(pnchs) == 1:\n",
    "                    return (datetime.strptime(pnchs[\"in\"], '%I:%M%p') + timedelta(hours=self.calculate_hours_expected())).strftime(\"%I:%M %p\")\n",
    "        else:\n",
    "            return \"You aren't on the clock!\""
   ]
  },
  {
   "cell_type": "code",
   "execution_count": 3,
   "metadata": {
    "collapsed": true
   },
   "outputs": [],
   "source": [
    "josh = PunchCard('josh')"
   ]
  },
  {
   "cell_type": "code",
   "execution_count": 4,
   "metadata": {
    "collapsed": true
   },
   "outputs": [],
   "source": [
    "josh.punch_in('mon', '8:15AM')\n",
    "josh.punch_out('mon', '4:43PM')"
   ]
  },
  {
   "cell_type": "code",
   "execution_count": 5,
   "metadata": {
    "collapsed": true
   },
   "outputs": [],
   "source": [
    "josh.punch_in('tue', '8:26AM')"
   ]
  },
  {
   "cell_type": "code",
   "execution_count": 6,
   "metadata": {
    "collapsed": false
   },
   "outputs": [
    {
     "data": {
      "text/plain": [
       "'04:58 PM'"
      ]
     },
     "execution_count": 6,
     "metadata": {},
     "output_type": "execute_result"
    }
   ],
   "source": [
    "josh.when_should_i_leave()"
   ]
  },
  {
   "cell_type": "code",
   "execution_count": null,
   "metadata": {
    "collapsed": true
   },
   "outputs": [],
   "source": []
  }
 ],
 "metadata": {
  "anaconda-cloud": {},
  "kernelspec": {
   "display_name": "Python [default]",
   "language": "python",
   "name": "python3"
  },
  "language_info": {
   "codemirror_mode": {
    "name": "ipython",
    "version": 3
   },
   "file_extension": ".py",
   "mimetype": "text/x-python",
   "name": "python",
   "nbconvert_exporter": "python",
   "pygments_lexer": "ipython3",
   "version": "3.5.2"
  },
  "nav_menu": {},
  "toc": {
   "navigate_menu": true,
   "number_sections": true,
   "sideBar": true,
   "threshold": 6,
   "toc_cell": false,
   "toc_section_display": "block",
   "toc_window_display": false
  }
 },
 "nbformat": 4,
 "nbformat_minor": 1
}
